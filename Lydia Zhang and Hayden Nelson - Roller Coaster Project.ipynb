{
 "cells": [
  {
   "attachments": {},
   "cell_type": "markdown",
   "metadata": {},
   "source": [
    "Hello Lauren,\n",
    "\n",
    "Here are out answers to the questions below; some of our answers are located inside the cells below and are written as comments as well.\n",
    "\n",
    "1. How did you clean the data? What columns/rows did you keep? Which ones did you get rid of? Why? What missing data did you fill in? How? Why?\n",
    "\n",
    "Going into the project, we wanted to keep all of the columns with missing data even if the majority of the data was missing—instead opting to replace the missing values with 0 (not the average for a specific reason). The reason we did not eliminate the rows is because we desired user preference. For example, if somebody only wanted extremly high G Forces in their roller coaster, we wanted that person to recieve a roller coaster with actually high G Forces, not an average. We understand that we are penalizing the roller coasters with few values, but we would rather penalize them than present a false positive to our user. Therefore the user can see that, if 0 is listed in other columns, the program is implying that the data is not listed (as how can a roller coaster have a speed of 0).\n",
    "\n",
    "2. What interesting observations did you find in the data? (For example: What is the oldest rollercoaster?)\n",
    "\n",
    "Please see cells below the #Ranked Roller Coasters cell.\n",
    "\n",
    "3. What graphs did you find by plotting numerical variables? Any interesting scatterplots or histograms? Do any of the scatterplots warrant a regression curve? If so, can you create one and interpret it?\n",
    "\n",
    "Please see #Graph cells locacted toward the bottom of the notebook.\n",
    "\n",
    "4. Can you make any sense out of the CoasterBuzz rankings? If so, what factors do they seem to be weighting highly? If not, why might you be having trouble finding a pattern? https://coasterbuzz.com/RollerCoasters/Top100\n",
    "\n",
    "Please see the #CoasterBuzz rankings cells located toward the bottom of the notebook (below #Graphs).\n",
    "\n",
    "5. Can you come up with your own ranking system? If you sort according to your own ranking, what are your top 10 roller coasters? How do they compare to the CoasterBuzz rankings?\n",
    "\n",
    "If you run the cell below and do not set your preferences, you can see our top ten choices. There does not seem to be a strong correlation with the CoasterBuzz rankings, but half of them do have very high (nearly 5) CoasterBuzz rankings—this means that we may values some of the same aspects as CoasterBuzz! These are our top ten (from best to worst):\n",
    "\n",
    "Steel Dragon 2000, Millennium Force, Fury 325, Fujiyama, Beast, Ultimate, Leviathan, Voyage, Desperado, Formula, Rossa"
   ]
  },
  {
   "cell_type": "code",
   "execution_count": 6,
   "metadata": {},
   "outputs": [
    {
     "name": "stdout",
     "output_type": "stream",
     "text": [
      "Would you like to specify your preferences? (only \"y\" or \"n\" will be accepted): 34567u8i9o\n",
      "ERROR: only enter \"y\" for yes or \"n\" for no\n",
      "Would you like to specify your preferences? (only \"y\" or \"n\" will be accepted): 56789o\n",
      "ERROR: only enter \"y\" for yes or \"n\" for no\n",
      "Would you like to specify your preferences? (only \"y\" or \"n\" will be accepted): 56789\n",
      "ERROR: only enter \"y\" for yes or \"n\" for no\n",
      "Would you like to specify your preferences? (only \"y\" or \"n\" will be accepted): y\n",
      "You have 100 points to assign to 8 factors (Height (feet), Speed (mph), Length (feet), Number of Inversions, Drop (feet), Duration (seconds), G Force, Vertical Angle (degrees))\n",
      "Faliure to enter NUMERIC values will reset your values.\n",
      "\n",
      "Points left: 100\n",
      "How many points would you like to allocate to Height (feet): 20\n",
      "\n",
      "Points left: 80.0\n",
      "How many points would you like to allocate to Speed (mph): 2000\n",
      "ERROR: Please be aware that you only have 100 points.\n",
      "Would you like to specify your preferences? (only \"y\" or \"n\" will be accepted): y\n",
      "You have 100 points to assign to 8 factors (Height (feet), Speed (mph), Length (feet), Number of Inversions, Drop (feet), Duration (seconds), G Force, Vertical Angle (degrees))\n",
      "Faliure to enter NUMERIC values will reset your values.\n",
      "\n",
      "Points left: 100\n",
      "How many points would you like to allocate to Height (feet): 100\n",
      "\n",
      "You have 0.0 left.\n",
      "Therefore Speed (mph) has been set to 0.\n",
      "\n",
      "You have 0.0 left.\n",
      "Therefore Length (feet) has been set to 0.\n",
      "\n",
      "You have 0.0 left.\n",
      "Therefore Number of Inversions has been set to 0.\n",
      "\n",
      "You have 0.0 left.\n",
      "Therefore Drop (feet) has been set to 0.\n",
      "\n",
      "You have 0.0 left.\n",
      "Therefore Duration (seconds) has been set to 0.\n",
      "\n",
      "You have 0.0 left.\n",
      "Therefore G Force has been set to 0.\n",
      "\n",
      "You have 0.0 left.\n",
      "Therefore Vertical Angle (degrees) has been set to 0.\n",
      "A file has been written in the place of this Notebook with your Top Ten Roller Coasters!\n"
     ]
    }
   ],
   "source": [
    "#Ranked Roller Coasters\n",
    "\n",
    "import pandas as pd\n",
    "import numpy as np\n",
    "\n",
    "def clean(file):\n",
    "    \"\"\"This function elimates specific errors found in the data\n",
    "    as well as strips the columns of white space and fills all NaNs with 0.\n",
    "    It takes the file name as input and returns the cleaned dataframe as an output.\"\"\"\n",
    "    rc = pd.read_csv(file)\n",
    "    rc.loc[111, \"Height (feet)\"] = 200\n",
    "    rc.columns = rc.columns.str.strip()\n",
    "    rc['Height (feet)'] = rc['Height (feet)'].astype(float)\n",
    "    rc = rc.fillna(0)\n",
    "    return rc\n",
    "\n",
    "def get_weights(cols):\n",
    "    \"\"\"This function takes in the columns one would like to evaluate (set by programmer not user)\n",
    "    and produces the valuations of the columns (how important each of them are is set by the user).\n",
    "    It returns the set valuations as a dictionary.\"\"\"\n",
    "    weights = {}\n",
    "    question = input('Would you like to specify your preferences? (only \"y\" or \"n\" will be accepted): ')\n",
    "    if question.lower().strip() not in ['y','n']:\n",
    "        print('ERROR: only enter \"y\" for yes or \"n\" for no')\n",
    "        return get_weights(cols)\n",
    "    elif question.lower().strip() == 'y':\n",
    "        print(f'''You have 100 points to assign to {len(cols)} factors ({\", \".join(cols)})\n",
    "Faliure to enter NUMERIC values will reset your values.''')\n",
    "        points = 100\n",
    "        for col in cols:\n",
    "            if points < 0:\n",
    "                print(\"ERROR: Please be aware that you only have 100 points.\")\n",
    "                return get_weights(cols)\n",
    "            if points == 0:\n",
    "                print(f\"\"\"\\nYou have {points} left.\n",
    "Therefore {col} has been set to 0.\"\"\")\n",
    "                weights[col] = 0\n",
    "                continue\n",
    "            print(f\"\\nPoints left: {points}\")\n",
    "            pts = input(f\"How many points would you like to allocate to {col}: \")\n",
    "            try:\n",
    "                weights[col] = float(pts.lower().strip())/100\n",
    "                points -= float(pts.lower().strip())\n",
    "            except ValueError:\n",
    "                print(\"ERROR: Only enter NUMERIC values\")\n",
    "                return get_weights(cols)\n",
    "        return weights\n",
    "            \n",
    "    elif question.lower().strip() == 'n':\n",
    "        weights['Height (feet)'] = 0.2\n",
    "        weights['Speed (mph)'] = 0.1\n",
    "        weights['Length (feet)'] = 0.05\n",
    "        weights['Number of Inversions'] = 0.05\n",
    "        weights['Drop (feet)'] = 0.1\n",
    "        weights['Duration (seconds)'] = 0.05\n",
    "        weights['G Force'] = 0.35\n",
    "        weights['Vertical Angle (degrees)'] = 0.1\n",
    "        return weights\n",
    "    \n",
    "def fix_duration(df):\n",
    "    \"\"\"This function converts the duration of the rollercoaster to seconds.\n",
    "    It takes in the dataframe as an input and returns the fixed dataframe.\"\"\"\n",
    "    for index, time in enumerate(df['Duration (min:sec)']):\n",
    "        try:\n",
    "            df.loc[int(index), \"Duration (min:sec)\"] = (int(time.split(\":\")[0])*60) + int(time.split(\":\")[-1])\n",
    "        except:\n",
    "            continue\n",
    "    df = df.rename(columns = {\"Duration (min:sec)\":\"Duration (seconds)\"})\n",
    "\n",
    "    return df\n",
    "\n",
    "def replace_Os(df, cols):\n",
    "    \"\"\"This functions deals with columns that are set as objects instead of floats.\n",
    "    It takes in the dataframe and evaluation columns as inputs and outputs the cleaned dataframe.\"\"\"\n",
    "    bad_cols = []\n",
    "    for col in cols:\n",
    "        try:\n",
    "            df[col] = df[col].astype(float)\n",
    "            df[col] = df[col].fillna(0)\n",
    "        except:\n",
    "            bad_cols += [col]\n",
    "    for coll in bad_cols:\n",
    "        for index, element in enumerate(df[coll]):\n",
    "            if type(element) != float:\n",
    "                try:\n",
    "                    df.loc[int(index),coll] = float(df.loc[int(index),coll])\n",
    "                except:\n",
    "                    df.loc[int(index),coll] = 0\n",
    "                    \n",
    "    return df\n",
    "\n",
    "def gen_rank(df, weights):\n",
    "    \"\"\"This function takes the dataframe and user specific weights and\n",
    "    outputs a new dataframe with a new rank column.\"\"\"\n",
    "    df['Personal Rank'] = 0\n",
    "    for key, value in weights.items():\n",
    "        df['Personal Rank'] += df[key]*value\n",
    "    return df\n",
    "\n",
    "def main():\n",
    "    rc = clean('rollercoaster.csv')\n",
    "    num_cols = ['Height (feet)', 'Speed (mph)', 'Length (feet)', 'Number of Inversions',\n",
    "        'Drop (feet)','Duration (seconds)', 'G Force', 'Vertical Angle (degrees)']\n",
    "    weights = get_weights(num_cols)\n",
    "    rc = fix_duration(rc)\n",
    "    rc = replace_Os(rc, num_cols)\n",
    "    rc = gen_rank(rc, weights)\n",
    "    rc = rc.sort_values(by = ['Personal Rank'], ascending = False).reset_index(drop = True)\n",
    "    top_ten = rc.head(10)\n",
    "    top_ten.to_csv(\"Top Ten Roller Coasters.csv\")\n",
    "    print('\\n\\nA file has been written in the folder of this Notebook with your Top Ten Roller Coasters!')\n",
    "    \n",
    "if __name__ == \"__main__\":\n",
    "    main()"
   ]
  },
  {
   "cell_type": "code",
   "execution_count": 109,
   "metadata": {},
   "outputs": [
    {
     "name": "stdout",
     "output_type": "stream",
     "text": [
      "Maximin Height 456.0\n",
      "Minimin Height 29.0\n",
      "Max height rollercoaster 146    Kingda Ka\n",
      "Name: Name, dtype: object\n",
      "Min height rollercoaster 263    Terminator Salvation: The Coaster\n",
      "Name: Name, dtype: object\n"
     ]
    }
   ],
   "source": [
    "import pandas as pd\n",
    "roller = pd.read_csv('rollercoaster.csv')\n",
    "\n",
    "#roller.drop(columns = ['G Force','Vertical Angle (degrees)','Drop (feet)','CoasterBuzz Ranking'],inplace = True)\n",
    "roller['Duration (min:sec)']= roller['Duration (min:sec)'].fillna('0:00')\n",
    "#roller\n",
    "\n",
    "#roller.columns\n",
    "roller.at[111, 'Height (feet)'] = 200\n",
    "roller['Height (feet)'] = roller['Height (feet)'].astype(float)\n",
    "#roller.info()\n",
    "# Max/Min Height:\n",
    "print('Maximin Height', roller['Height (feet)'].max())\n",
    "print('Minimin Height', roller['Height (feet)'].min())\n",
    "roller_max = roller.loc[roller['Height (feet)'] == 456]\n",
    "print('Max height rollercoaster', roller_max['Name'])\n",
    "roller_min = roller.loc[roller['Height (feet)'] == 29]\n",
    "print('Min height rollercoaster', roller_min['Name'] )"
   ]
  },
  {
   "cell_type": "code",
   "execution_count": 143,
   "metadata": {},
   "outputs": [
    {
     "name": "stdout",
     "output_type": "stream",
     "text": [
      "The oldest: 2018\n",
      "The youngest: 1924\n"
     ]
    }
   ],
   "source": [
    "#Oldest/Youngest rollercoaster\n",
    "#roller.info()\n",
    "print('The oldest:', roller['Year/Date Opened'].max())\n",
    "print('The youngest:', roller['Year/Date Opened'].min())"
   ]
  },
  {
   "cell_type": "code",
   "execution_count": 111,
   "metadata": {},
   "outputs": [],
   "source": [
    "roller.columns = roller.columns.str.strip() \n",
    "#roller.columns\n",
    "roller = roller.dropna(subset = ['Length (feet)', 'Speed (mph)' ])\n",
    "#roller.info()\n",
    "roller['Speed (mph)'].fillna(0, inplace=True)\n",
    "roller['Speed (mph)'].replace(' ', 0, inplace=True)\n",
    "roller['Speed (mph)'] = roller['Speed (mph)'].astype(float)"
   ]
  },
  {
   "cell_type": "code",
   "execution_count": 112,
   "metadata": {},
   "outputs": [
    {
     "name": "stdout",
     "output_type": "stream",
     "text": [
      "0.005204877820833893 43.12137057265153\n"
     ]
    },
    {
     "data": {
      "text/plain": [
       "[<matplotlib.lines.Line2D at 0x11a686fd0>,\n",
       " <matplotlib.lines.Line2D at 0x11a686be0>]"
      ]
     },
     "execution_count": 112,
     "metadata": {},
     "output_type": "execute_result"
    },
    {
     "data": {
      "image/png": "[encoded data removed]",
      "text/plain": [
       "<Figure size 432x288 with 1 Axes>"
      ]
     },
     "metadata": {},
     "output_type": "display_data"
    }
   ],
   "source": [
    "#Graph\n",
    "#Duration VS Speed\n",
    "import matplotlib.pyplot as plt\n",
    "%matplotlib inline\n",
    "import numpy as np\n",
    "length = roller['Length (feet)']\n",
    "speed = roller['Speed (mph)']\n",
    "plt.plot(length, speed, '.')\n",
    "plt.xlabel('Length')\n",
    "plt.ylabel('Speed')\n",
    "m,b = np.polyfit(length, speed, 1)\n",
    "print(m,b)\n",
    "fit = np.polyfit(length, speed,1)\n",
    "fit_fn = np.poly1d(fit) \n",
    "plt.plot(length, speed,'.', length, fit_fn(length))\n",
    "# The rollercoaster with longer length tends to have faster speed.\n",
    "# Possible explanation: with the longer length, it is easier and more likely for the rollercoaster to accelerate and \n",
    "# reach a higher speed."
   ]
  },
  {
   "cell_type": "code",
   "execution_count": 113,
   "metadata": {},
   "outputs": [
    {
     "name": "stdout",
     "output_type": "stream",
     "text": [
      "-1.0915585761054236 62.11436188581768\n"
     ]
    },
    {
     "data": {
      "text/plain": [
       "[<matplotlib.lines.Line2D at 0x11a4377f0>,\n",
       " <matplotlib.lines.Line2D at 0x11a463a90>]"
      ]
     },
     "execution_count": 113,
     "metadata": {},
     "output_type": "execute_result"
    },
    {
     "data": {
      "image/png": "[encoded data removed]",
      "text/plain": [
       "<Figure size 432x288 with 1 Axes>"
      ]
     },
     "metadata": {},
     "output_type": "display_data"
    }
   ],
   "source": [
    "#Graph\n",
    "#roller.info()\n",
    "#Number of Inversions VS \n",
    "inversion = roller['Number of Inversions']\n",
    "plt.plot(inversion, speed, '.')\n",
    "plt.xlabel('Number of Inversions')\n",
    "plt.ylabel('Speed')\n",
    "m,b = np.polyfit(inversion, speed, 1)\n",
    "print(m,b)\n",
    "fit = np.polyfit(inversion, speed,1)\n",
    "fit_fn = np.poly1d(fit) \n",
    "plt.plot(inversion, speed,'.', inversion, fit_fn(inversion))\n",
    "# As the number of inversions becomes bigger, the speed becomes more concentrated at around 60.\n",
    "# Possible Explanation: When there are too many inversions in one round, the speed can't be high because \n",
    "# every inversion will possibly reduce the speed."
   ]
  },
  {
   "cell_type": "code",
   "execution_count": 127,
   "metadata": {},
   "outputs": [
    {
     "data": {
      "text/plain": [
       "Text(0,0.5,'CoasterBuzz')"
      ]
     },
     "execution_count": 127,
     "metadata": {},
     "output_type": "execute_result"
    },
    {
     "data": {
      "image/png": "[encoded data removed]",
      "text/plain": [
       "<Figure size 432x288 with 1 Axes>"
      ]
     },
     "metadata": {},
     "output_type": "display_data"
    }
   ],
   "source": [
    "# CoasterBuzz Ranking (Height)\n",
    "roller = roller.dropna(subset = ['Height (feet)','CoasterBuzz Ranking'])\n",
    "#roller.info()\n",
    "height = roller['Height (feet)']\n",
    "coaster = roller['CoasterBuzz Ranking']\n",
    "plt.plot(height, coaster, '.')\n",
    "plt.xlabel('Height')\n",
    "plt.ylabel('CoasterBuzz')\n",
    "# From the graph, no obvious relationship"
   ]
  },
  {
   "cell_type": "code",
   "execution_count": 123,
   "metadata": {},
   "outputs": [
    {
     "name": "stdout",
     "output_type": "stream",
     "text": [
      "8.157409417774683e-05 4.008913945241229\n"
     ]
    },
    {
     "data": {
      "text/plain": [
       "[<matplotlib.lines.Line2D at 0x11a8cb400>,\n",
       " <matplotlib.lines.Line2D at 0x11a8cb5f8>]"
      ]
     },
     "execution_count": 123,
     "metadata": {},
     "output_type": "execute_result"
    },
    {
     "data": {
      "image/png": "[encoded data removed]",
      "text/plain": [
       "<Figure size 432x288 with 1 Axes>"
      ]
     },
     "metadata": {},
     "output_type": "display_data"
    }
   ],
   "source": [
    "# CoasterBuzz Ranking (Height)\n",
    "roller = roller.dropna(subset = ['Length (feet)','CoasterBuzz Ranking'])\n",
    "length_new = roller['Length (feet)']\n",
    "plt.plot(length_new, coaster, '.')\n",
    "plt.xlabel('Length')\n",
    "plt.ylabel('CoasterBuzz')\n",
    "m,b = np.polyfit(length_new, coaster, 1)\n",
    "print(m,b)\n",
    "fit = np.polyfit(length_new, coaster, 1)\n",
    "fit_fn = np.poly1d(fit) \n",
    "plt.plot(length_new, coaster, '.', length_new, fit_fn(length_new))\n",
    "# There is a relationship which is not obviously seen that as the length is longer, the coasterBuzz ranking is higher."
   ]
  },
  {
   "cell_type": "code",
   "execution_count": 134,
   "metadata": {},
   "outputs": [
    {
     "data": {
      "text/plain": [
       "Text(0,0.5,'CoasterBuzz')"
      ]
     },
     "execution_count": 134,
     "metadata": {},
     "output_type": "execute_result"
    },
    {
     "data": {
      "image/png": "[encoded data removed]",
      "text/plain": [
       "<Figure size 432x288 with 1 Axes>"
      ]
     },
     "metadata": {},
     "output_type": "display_data"
    }
   ],
   "source": [
    "roller = roller.dropna(subset = ['Speed (mph)','CoasterBuzz Ranking'])\n",
    "speed_new = roller['Speed (mph)']\n",
    "#roller.info()\n",
    "plt.plot(speed_new, coaster, '.')\n",
    "plt.xlabel('Speed')\n",
    "plt.ylabel('CoasterBuzz')\n",
    "# No obvious relationship bewteen the two, but the graph is similar with the the graph of height vs coasterbuzz ranking"
   ]
  },
  {
   "cell_type": "code",
   "execution_count": 142,
   "metadata": {},
   "outputs": [
    {
     "data": {
      "text/plain": [
       "Text(0,0.5,'CoasterBuzz')"
      ]
     },
     "execution_count": 142,
     "metadata": {},
     "output_type": "execute_result"
    },
    {
     "data": {
      "image/png": "[encoded data removed]",
      "text/plain": [
       "<Figure size 432x288 with 1 Axes>"
      ]
     },
     "metadata": {},
     "output_type": "display_data"
    }
   ],
   "source": [
    "roller = roller.dropna(subset = ['Duration (min:sec)','CoasterBuzz Ranking'])\n",
    "#roller.info()\n",
    "roller['Duration (min:sec)'] = roller['Duration (min:sec)'].fillna('0:00')\n",
    "roller['Duration (min:sec)'] = roller['Duration (min:sec)'].replace(' ', '0:00')\n",
    "\n",
    "def convert(t):\n",
    "    time = str(t).split(':')\n",
    "    time_in_sec = int(time[0])*60+int(time[1])\n",
    "    return time_in_sec\n",
    "\n",
    "roller['Duration in sec'] = roller['Duration (min:sec)'].apply(convert)\n",
    "duration = roller['Duration in sec']\n",
    "plt.plot(duration, coaster, '.')\n",
    "plt.xlabel('Duration')\n",
    "plt.ylabel('CoasterBuzz')\n",
    "# No obvious pattern is shown here as well. \n",
    "# In general, there is no obvious pattern between coasterbuzz ranking and height, speed or duration.\n",
    "# However, there seems like a linear relationship between the ranking and length."
   ]
  }
 ],
 "metadata": {
  "kernelspec": {
   "display_name": "Python 3",
   "language": "python",
   "name": "python3"
  },
  "language_info": {
   "codemirror_mode": {
    "name": "ipython",
    "version": 3
   },
   "file_extension": ".py",
   "mimetype": "text/x-python",
   "name": "python",
   "nbconvert_exporter": "python",
   "pygments_lexer": "ipython3",
   "version": "3.6.5"
  }
 },
 "nbformat": 4,
 "nbformat_minor": 2
}
